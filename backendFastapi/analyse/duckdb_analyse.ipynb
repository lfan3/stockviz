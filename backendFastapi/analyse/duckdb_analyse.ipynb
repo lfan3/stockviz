{
 "cells": [
  {
   "cell_type": "code",
   "execution_count": 40,
   "id": "92ce30ae",
   "metadata": {},
   "outputs": [
    {
     "name": "stdout",
     "output_type": "stream",
     "text": [
      "aa True    ticker_exists\n",
      "0           True\n"
     ]
    }
   ],
   "source": [
    "import pandas as pd\n",
    "import os\n",
    "import duckdb \n",
    "\n",
    "folder = os.getcwd()\n",
    "\n",
    "db_file = os.path.normpath(os.path.join(folder, \"..\", \"data\", \"main.duckdb\"))\n",
    "\n",
    "conn = duckdb.connect(db_file)\n",
    "\n",
    "# tables_df = conn.execute(\"SHOW TABLES\").fetch_df()\n",
    "desciption = conn.execute(\"DESCRIBE cn_company_import_status\").fetch_df()\n",
    "# print('d', desciption)\n",
    "\n",
    "# conn.execute(\"INSERT INTO cn_company_import_status (ticker) VALUES(603989)\")\n",
    "# conn.execute(\"INSERT INTO cn_company_import_status (ticker) VALUES('6039892')\")\n",
    "# conn.execute(\"INSERT INTO companies_group (ticker, companyname, groupname,comments) VALUES(60232,'aa','gg', 'cc')\")\n",
    "# conn.execute(\"INSERT INTO companies_group (ticker) VALUES(2342)\")\n",
    "# conn.execute(\"INSERT INTO companies_group (ticker) VALUES(32342)\")\n",
    "\n",
    "rows = conn.execute(\"SELECT * FROM cn_company_import_status\").fetch_df()\n",
    "rows2 = conn.execute(\"SELECT * FROM companies_group\").fetch_df()\n",
    "\n",
    "query = \"\"\"\n",
    "        SELECT EXISTS (\n",
    "            SELECT 1 FROM cn_company_import_status WHERE ticker = $ticker\n",
    "        ) AS ticker_exists\n",
    "        \"\"\"\n",
    "result = conn.execute(query, {'ticker':'603989'}).fetch_df()\n",
    "# print(rows.head())\n",
    "# print(rows2.head())\n",
    "print('aa',result['ticker_exists'].iloc[0], result)\n",
    "\n",
    "conn.close()\n",
    "\n"
   ]
  }
 ],
 "metadata": {
  "kernelspec": {
   "display_name": "Python 3",
   "language": "python",
   "name": "python3"
  },
  "language_info": {
   "codemirror_mode": {
    "name": "ipython",
    "version": 3
   },
   "file_extension": ".py",
   "mimetype": "text/x-python",
   "name": "python",
   "nbconvert_exporter": "python",
   "pygments_lexer": "ipython3",
   "version": "3.12.8"
  }
 },
 "nbformat": 4,
 "nbformat_minor": 5
}
