{
 "cells": [
  {
   "cell_type": "code",
   "execution_count": 24,
   "id": "d59cd94c",
   "metadata": {},
   "outputs": [],
   "source": [
    "import pandas as pd\n",
    "import os\n",
    "import json\n",
    "\n",
    "folder = os.getcwd()\n",
    "file = f\"{folder}/price_GNFT.PA.csv\"\n",
    "\n",
    "df = pd.read_csv(file)\n",
    "df = df.rename(columns={\n",
    "    'Date': 'time',\n",
    "    'Open': 'open',\n",
    "    'High': 'high', \n",
    "    'Low': 'low',\n",
    "    'Close': 'close',\n",
    "    'Volume':'volume'\n",
    "})[['time','open','high','low','close','volume']]\n",
    "\n",
    "records = df.to_dict('records')\n",
    "\n",
    "with open('gnft_price.json', 'w') as f:\n",
    "    json.dump(records, f, indent=4, default=str)  # default=str handles datetime objects\n",
    "\n",
    "\n"
   ]
  }
 ],
 "metadata": {
  "kernelspec": {
   "display_name": "backendfastapi",
   "language": "python",
   "name": "python3"
  },
  "language_info": {
   "codemirror_mode": {
    "name": "ipython",
    "version": 3
   },
   "file_extension": ".py",
   "mimetype": "text/x-python",
   "name": "python",
   "nbconvert_exporter": "python",
   "pygments_lexer": "ipython3",
   "version": "3.12.8"
  }
 },
 "nbformat": 4,
 "nbformat_minor": 5
}
